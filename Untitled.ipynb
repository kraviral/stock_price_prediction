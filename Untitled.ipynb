{
 "cells": [
  {
   "cell_type": "markdown",
   "metadata": {},
   "source": [
    "### Importing Libraries"
   ]
  },
  {
   "cell_type": "code",
   "execution_count": 1,
   "metadata": {
    "scrolled": true
   },
   "outputs": [],
   "source": [
    "import numpy as np\n",
    "import pandas as pd\n",
    "import matplotlib.pyplot as plt\n",
    "import investpy"
   ]
  },
  {
   "cell_type": "markdown",
   "metadata": {},
   "source": [
    "### Importing stock data using Investpy"
   ]
  },
  {
   "cell_type": "code",
   "execution_count": 82,
   "metadata": {},
   "outputs": [],
   "source": [
    "stock_name = \"RELI\" # Name of the stock\n",
    "\n",
    "df = investpy.get_stock_historical_data(stock = stock_name,\n",
    "                                        country = 'India',\n",
    "                                        from_date = '01/01/2010',\n",
    "                                        to_date = '31/12/2020')"
   ]
  },
  {
   "cell_type": "markdown",
   "metadata": {},
   "source": [
    "### Plot of the stock price data of Reliance Industries Limited stock for 11 years (2010-2020)"
   ]
  },
  {
   "cell_type": "code",
   "execution_count": 83,
   "metadata": {},
   "outputs": [
    {
     "data": {
      "image/png": "[encoded data removed]",
      "text/plain": [
       "<Figure size 432x288 with 1 Axes>"
      ]
     },
     "metadata": {
      "needs_background": "light"
     },
     "output_type": "display_data"
    }
   ],
   "source": [
    "plt.plot(df[['Close']], label = \"Close Price\")\n",
    "plt.legend()\n",
    "plt.title('Reliance Industries Limited')\n",
    "plt.ylabel('Price')\n",
    "plt.xlabel('Year')\n",
    "plt.show()"
   ]
  },
  {
   "cell_type": "code",
   "execution_count": 9,
   "metadata": {},
   "outputs": [],
   "source": [
    "df = df.reset_index()"
   ]
  },
  {
   "cell_type": "code",
   "execution_count": 10,
   "metadata": {},
   "outputs": [],
   "source": [
    "df1 = df['Close']"
   ]
  },
  {
   "cell_type": "markdown",
   "metadata": {},
   "source": [
    "### Scaling the data"
   ]
  },
  {
   "cell_type": "code",
   "execution_count": 11,
   "metadata": {},
   "outputs": [],
   "source": [
    "from sklearn.preprocessing import MinMaxScaler\n",
    "scaler = MinMaxScaler(feature_range=(0,1))\n",
    "df1 = scaler.fit_transform(np.array(df1).reshape(-1,1))"
   ]
  },
  {
   "cell_type": "markdown",
   "metadata": {},
   "source": [
    "### Train Test Split"
   ]
  },
  {
   "cell_type": "code",
   "execution_count": 12,
   "metadata": {},
   "outputs": [],
   "source": [
    "index_2020 = df[df[\"Date\"] == \"2020-01-01\"].index.astype(int)[0] # index of start of year 2020\n",
    "train_data, test_data = df1[0:index_2020, :], df1[index_2020:,:]"
   ]
  },
  {
   "cell_type": "markdown",
   "metadata": {},
   "source": [
    "### Creating dataset for model using time step"
   ]
  },
  {
   "cell_type": "code",
   "execution_count": 13,
   "metadata": {},
   "outputs": [],
   "source": [
    "def create_dataset(dataset, time_step=1):\n",
    "  dataX, dataY = [], []\n",
    "  for i in range(len(dataset)-time_step-1): # -1 can should be removed to get the complete dataset\n",
    "    a = dataset[i:(i+time_step), 0]\n",
    "    dataX.append(a)\n",
    "    dataY.append(dataset[i+time_step, 0])\n",
    "  return np.array(dataX), np.array(dataY)"
   ]
  },
  {
   "cell_type": "code",
   "execution_count": 14,
   "metadata": {},
   "outputs": [],
   "source": [
    "time_step = 100\n",
    "X_train, y_train = create_dataset(train_data, time_step)\n",
    "X_test, y_test = create_dataset(test_data, time_step)"
   ]
  },
  {
   "cell_type": "code",
   "execution_count": 16,
   "metadata": {},
   "outputs": [],
   "source": [
    "# reshape input to be [samples, time_steps, features] which is required for LSTM\n",
    "X_train = X_train.reshape(X_train.shape[0], X_train.shape[1], 1)\n",
    "X_test = X_test.reshape(X_test.shape[0], X_test.shape[1], 1)"
   ]
  },
  {
   "cell_type": "markdown",
   "metadata": {},
   "source": [
    "### Creating and fitting LSTM Model"
   ]
  },
  {
   "cell_type": "code",
   "execution_count": 17,
   "metadata": {},
   "outputs": [],
   "source": [
    "#Create the LSTM model\n",
    "from tensorflow.keras.models import Sequential\n",
    "from tensorflow.keras.layers import Dense\n",
    "from tensorflow.keras.layers import LSTM"
   ]
  },
  {
   "cell_type": "code",
   "execution_count": 29,
   "metadata": {},
   "outputs": [],
   "source": [
    "model=Sequential()\n",
    "model.add(LSTM(50, return_sequences=True, input_shape=(100,1)))\n",
    "model.add(LSTM(50, return_sequences=True))\n",
    "model.add(LSTM(50))\n",
    "model.add(Dense(1))\n",
    "model.compile(loss='mean_squared_error', optimizer='adam')"
   ]
  },
  {
   "cell_type": "code",
   "execution_count": 30,
   "metadata": {},
   "outputs": [
    {
     "name": "stdout",
     "output_type": "stream",
     "text": [
      "Model: \"sequential_1\"\n",
      "_________________________________________________________________\n",
      "Layer (type)                 Output Shape              Param #   \n",
      "=================================================================\n",
      "lstm_3 (LSTM)                (None, 100, 50)           10400     \n",
      "_________________________________________________________________\n",
      "lstm_4 (LSTM)                (None, 100, 50)           20200     \n",
      "_________________________________________________________________\n",
      "lstm_5 (LSTM)                (None, 50)                20200     \n",
      "_________________________________________________________________\n",
      "dense_1 (Dense)              (None, 1)                 51        \n",
      "=================================================================\n",
      "Total params: 50,851\n",
      "Trainable params: 50,851\n",
      "Non-trainable params: 0\n",
      "_________________________________________________________________\n"
     ]
    }
   ],
   "source": [
    "model.summary()"
   ]
  },
  {
   "cell_type": "code",
   "execution_count": 31,
   "metadata": {},
   "outputs": [
    {
     "name": "stdout",
     "output_type": "stream",
     "text": [
      "Epoch 1/100\n",
      "38/38 [==============================] - 18s 310ms/step - loss: 0.0084 - val_loss: 0.0073\n",
      "Epoch 2/100\n",
      "38/38 [==============================] - 8s 205ms/step - loss: 3.6043e-04 - val_loss: 0.0035\n",
      "Epoch 3/100\n",
      "38/38 [==============================] - 8s 214ms/step - loss: 3.1603e-04 - val_loss: 0.0049\n",
      "Epoch 4/100\n",
      "38/38 [==============================] - 9s 233ms/step - loss: 2.5589e-04 - val_loss: 0.0029\n",
      "Epoch 5/100\n",
      "38/38 [==============================] - 7s 186ms/step - loss: 2.5291e-04 - val_loss: 0.0043\n",
      "Epoch 6/100\n",
      "38/38 [==============================] - 7s 182ms/step - loss: 2.6387e-04 - val_loss: 0.0061\n",
      "Epoch 7/100\n",
      "38/38 [==============================] - 8s 207ms/step - loss: 2.4644e-04 - val_loss: 0.0068\n",
      "Epoch 8/100\n",
      "38/38 [==============================] - 8s 195ms/step - loss: 2.6822e-04 - val_loss: 0.0021\n",
      "Epoch 9/100\n",
      "38/38 [==============================] - 8s 207ms/step - loss: 2.5467e-04 - val_loss: 0.0046\n",
      "Epoch 10/100\n",
      "38/38 [==============================] - 7s 188ms/step - loss: 2.3894e-04 - val_loss: 0.0027\n",
      "Epoch 11/100\n",
      "38/38 [==============================] - 8s 200ms/step - loss: 2.3167e-04 - val_loss: 0.0023\n",
      "Epoch 12/100\n",
      "38/38 [==============================] - 8s 197ms/step - loss: 2.3392e-04 - val_loss: 0.0027\n",
      "Epoch 13/100\n",
      "38/38 [==============================] - 6s 168ms/step - loss: 2.3462e-04 - val_loss: 0.0022\n",
      "Epoch 14/100\n",
      "38/38 [==============================] - 6s 167ms/step - loss: 1.9599e-04 - val_loss: 0.0024\n",
      "Epoch 15/100\n",
      "38/38 [==============================] - 6s 158ms/step - loss: 2.0384e-04 - val_loss: 0.0017\n",
      "Epoch 16/100\n",
      "38/38 [==============================] - 7s 175ms/step - loss: 2.2089e-04 - val_loss: 0.0114\n",
      "Epoch 17/100\n",
      "38/38 [==============================] - 6s 158ms/step - loss: 2.6928e-04 - val_loss: 0.0048\n",
      "Epoch 18/100\n",
      "38/38 [==============================] - 6s 161ms/step - loss: 1.8902e-04 - val_loss: 0.0025\n",
      "Epoch 19/100\n",
      "38/38 [==============================] - 8s 200ms/step - loss: 1.6815e-04 - val_loss: 0.0014\n",
      "Epoch 20/100\n",
      "38/38 [==============================] - 6s 167ms/step - loss: 1.7220e-04 - val_loss: 0.0018\n",
      "Epoch 21/100\n",
      "38/38 [==============================] - 6s 168ms/step - loss: 1.7493e-04 - val_loss: 0.0017\n",
      "Epoch 22/100\n",
      "38/38 [==============================] - 6s 166ms/step - loss: 1.7014e-04 - val_loss: 0.0059\n",
      "Epoch 23/100\n",
      "38/38 [==============================] - 7s 180ms/step - loss: 1.6498e-04 - val_loss: 0.0026\n",
      "Epoch 24/100\n",
      "38/38 [==============================] - 7s 185ms/step - loss: 1.6324e-04 - val_loss: 0.0012\n",
      "Epoch 25/100\n",
      "38/38 [==============================] - 7s 177ms/step - loss: 2.3558e-04 - val_loss: 0.0062\n",
      "Epoch 26/100\n",
      "38/38 [==============================] - 7s 180ms/step - loss: 2.3687e-04 - val_loss: 0.0020\n",
      "Epoch 27/100\n",
      "38/38 [==============================] - 7s 182ms/step - loss: 1.3364e-04 - val_loss: 0.0016\n",
      "Epoch 28/100\n",
      "38/38 [==============================] - 6s 168ms/step - loss: 1.7005e-04 - val_loss: 0.0042\n",
      "Epoch 29/100\n",
      "38/38 [==============================] - 7s 182ms/step - loss: 2.0525e-04 - val_loss: 0.0021\n",
      "Epoch 30/100\n",
      "38/38 [==============================] - 7s 174ms/step - loss: 1.4773e-04 - val_loss: 0.0030\n",
      "Epoch 31/100\n",
      "38/38 [==============================] - 6s 152ms/step - loss: 1.3674e-04 - val_loss: 0.0011\n",
      "Epoch 32/100\n",
      "38/38 [==============================] - 7s 174ms/step - loss: 1.4865e-04 - val_loss: 0.0019\n",
      "Epoch 33/100\n",
      "38/38 [==============================] - 7s 175ms/step - loss: 1.2023e-04 - val_loss: 0.0023\n",
      "Epoch 34/100\n",
      "38/38 [==============================] - 7s 174ms/step - loss: 1.1379e-04 - val_loss: 0.0012\n",
      "Epoch 35/100\n",
      "38/38 [==============================] - 7s 178ms/step - loss: 1.1006e-04 - val_loss: 0.0013\n",
      "Epoch 36/100\n",
      "38/38 [==============================] - 7s 177ms/step - loss: 1.0798e-04 - val_loss: 0.0021\n",
      "Epoch 37/100\n",
      "38/38 [==============================] - 7s 172ms/step - loss: 1.1881e-04 - val_loss: 0.0030\n",
      "Epoch 38/100\n",
      "38/38 [==============================] - 7s 185ms/step - loss: 1.2165e-04 - val_loss: 0.0015\n",
      "Epoch 39/100\n",
      "38/38 [==============================] - 6s 164ms/step - loss: 1.2316e-04 - val_loss: 9.3934e-04\n",
      "Epoch 40/100\n",
      "38/38 [==============================] - 7s 181ms/step - loss: 1.1815e-04 - val_loss: 0.0041\n",
      "Epoch 41/100\n",
      "38/38 [==============================] - 7s 174ms/step - loss: 1.3631e-04 - val_loss: 0.0017\n",
      "Epoch 42/100\n",
      "38/38 [==============================] - 7s 173ms/step - loss: 1.1906e-04 - val_loss: 0.0020\n",
      "Epoch 43/100\n",
      "38/38 [==============================] - 7s 185ms/step - loss: 9.9169e-05 - val_loss: 0.0025\n",
      "Epoch 44/100\n",
      "38/38 [==============================] - 7s 185ms/step - loss: 1.1170e-04 - val_loss: 0.0019\n",
      "Epoch 45/100\n",
      "38/38 [==============================] - 7s 179ms/step - loss: 1.1440e-04 - val_loss: 0.0010\n",
      "Epoch 46/100\n",
      "38/38 [==============================] - 7s 183ms/step - loss: 8.8360e-05 - val_loss: 7.6528e-04\n",
      "Epoch 47/100\n",
      "38/38 [==============================] - 7s 181ms/step - loss: 1.1689e-04 - val_loss: 0.0023\n",
      "Epoch 48/100\n",
      "38/38 [==============================] - 7s 177ms/step - loss: 1.5185e-04 - val_loss: 0.0012\n",
      "Epoch 49/100\n",
      "38/38 [==============================] - 7s 185ms/step - loss: 1.0342e-04 - val_loss: 0.0029\n",
      "Epoch 50/100\n",
      "38/38 [==============================] - 7s 183ms/step - loss: 9.9148e-05 - val_loss: 0.0016\n",
      "Epoch 51/100\n",
      "38/38 [==============================] - 7s 181ms/step - loss: 9.5282e-05 - val_loss: 9.0890e-04\n",
      "Epoch 52/100\n",
      "38/38 [==============================] - 7s 184ms/step - loss: 8.9260e-05 - val_loss: 0.0012\n",
      "Epoch 53/100\n",
      "38/38 [==============================] - 7s 176ms/step - loss: 9.5483e-05 - val_loss: 0.0031\n",
      "Epoch 54/100\n",
      "38/38 [==============================] - 7s 173ms/step - loss: 1.0343e-04 - val_loss: 0.0018\n",
      "Epoch 55/100\n",
      "38/38 [==============================] - 7s 181ms/step - loss: 1.0662e-04 - val_loss: 0.0021\n",
      "Epoch 56/100\n",
      "38/38 [==============================] - 7s 174ms/step - loss: 8.3633e-05 - val_loss: 0.0012\n",
      "Epoch 57/100\n",
      "38/38 [==============================] - 7s 175ms/step - loss: 8.5958e-05 - val_loss: 0.0016\n",
      "Epoch 58/100\n",
      "38/38 [==============================] - 7s 175ms/step - loss: 7.7775e-05 - val_loss: 6.3371e-04\n",
      "Epoch 59/100\n",
      "38/38 [==============================] - 6s 162ms/step - loss: 8.4281e-05 - val_loss: 0.0024\n",
      "Epoch 60/100\n",
      "38/38 [==============================] - 7s 184ms/step - loss: 8.1955e-05 - val_loss: 6.4781e-04\n",
      "Epoch 61/100\n",
      "38/38 [==============================] - 7s 180ms/step - loss: 6.8060e-05 - val_loss: 6.2382e-04\n",
      "Epoch 62/100\n",
      "38/38 [==============================] - 12s 308ms/step - loss: 8.4908e-05 - val_loss: 5.0432e-04\n",
      "Epoch 63/100\n",
      "38/38 [==============================] - 8s 221ms/step - loss: 8.1998e-05 - val_loss: 5.4108e-04\n",
      "Epoch 64/100\n",
      "38/38 [==============================] - 6s 164ms/step - loss: 1.0625e-04 - val_loss: 5.7730e-04\n",
      "Epoch 65/100\n",
      "38/38 [==============================] - 6s 159ms/step - loss: 9.8318e-05 - val_loss: 0.0010\n",
      "Epoch 66/100\n",
      "38/38 [==============================] - 6s 160ms/step - loss: 7.4181e-05 - val_loss: 7.3966e-04\n",
      "Epoch 67/100\n",
      "38/38 [==============================] - 6s 168ms/step - loss: 5.9682e-05 - val_loss: 0.0013\n",
      "Epoch 68/100\n",
      "38/38 [==============================] - 6s 167ms/step - loss: 9.3092e-05 - val_loss: 4.6419e-04\n",
      "Epoch 69/100\n",
      "38/38 [==============================] - 6s 161ms/step - loss: 6.0636e-05 - val_loss: 8.6830e-04\n",
      "Epoch 70/100\n",
      "38/38 [==============================] - 6s 156ms/step - loss: 5.9140e-05 - val_loss: 0.0010\n",
      "Epoch 71/100\n",
      "38/38 [==============================] - 6s 156ms/step - loss: 6.4199e-05 - val_loss: 0.0012\n",
      "Epoch 72/100\n",
      "38/38 [==============================] - 6s 161ms/step - loss: 5.8375e-05 - val_loss: 0.0015\n",
      "Epoch 73/100\n",
      "38/38 [==============================] - 6s 150ms/step - loss: 5.4090e-05 - val_loss: 4.7016e-04\n",
      "Epoch 74/100\n",
      "38/38 [==============================] - 6s 164ms/step - loss: 5.6211e-05 - val_loss: 8.9051e-04\n",
      "Epoch 75/100\n",
      "38/38 [==============================] - 6s 148ms/step - loss: 6.5353e-05 - val_loss: 4.5707e-04\n",
      "Epoch 76/100\n",
      "38/38 [==============================] - 6s 163ms/step - loss: 5.9518e-05 - val_loss: 5.8833e-04\n",
      "Epoch 77/100\n",
      "38/38 [==============================] - 6s 150ms/step - loss: 5.0643e-05 - val_loss: 4.2226e-04\n"
     ]
    },
    {
     "name": "stdout",
     "output_type": "stream",
     "text": [
      "Epoch 78/100\n",
      "38/38 [==============================] - 6s 162ms/step - loss: 5.5001e-05 - val_loss: 5.5994e-04\n",
      "Epoch 79/100\n",
      "38/38 [==============================] - 6s 160ms/step - loss: 5.3751e-05 - val_loss: 4.1086e-04\n",
      "Epoch 80/100\n",
      "38/38 [==============================] - 7s 184ms/step - loss: 5.5081e-05 - val_loss: 8.5158e-04\n",
      "Epoch 81/100\n",
      "38/38 [==============================] - 9s 228ms/step - loss: 4.8522e-05 - val_loss: 0.0016\n",
      "Epoch 82/100\n",
      "38/38 [==============================] - 7s 191ms/step - loss: 7.5832e-05 - val_loss: 8.3790e-04\n",
      "Epoch 83/100\n",
      "38/38 [==============================] - 7s 174ms/step - loss: 4.7375e-05 - val_loss: 0.0013\n",
      "Epoch 84/100\n",
      "38/38 [==============================] - 7s 185ms/step - loss: 4.8748e-05 - val_loss: 0.0025\n",
      "Epoch 85/100\n",
      "38/38 [==============================] - 7s 181ms/step - loss: 5.3970e-05 - val_loss: 4.2684e-04\n",
      "Epoch 86/100\n",
      "38/38 [==============================] - 7s 173ms/step - loss: 4.5818e-05 - val_loss: 4.5321e-04\n",
      "Epoch 87/100\n",
      "38/38 [==============================] - 8s 218ms/step - loss: 4.3318e-05 - val_loss: 7.0264e-04\n",
      "Epoch 88/100\n",
      "38/38 [==============================] - 9s 227ms/step - loss: 4.1919e-05 - val_loss: 4.1022e-04\n",
      "Epoch 89/100\n",
      "38/38 [==============================] - 9s 229ms/step - loss: 4.8882e-05 - val_loss: 0.0016\n",
      "Epoch 90/100\n",
      "38/38 [==============================] - 9s 229ms/step - loss: 4.6100e-05 - val_loss: 0.0013\n",
      "Epoch 91/100\n",
      "38/38 [==============================] - 7s 173ms/step - loss: 5.1151e-05 - val_loss: 4.1505e-04\n",
      "Epoch 92/100\n",
      "38/38 [==============================] - 6s 165ms/step - loss: 4.7150e-05 - val_loss: 4.1909e-04\n",
      "Epoch 93/100\n",
      "38/38 [==============================] - 6s 148ms/step - loss: 5.4593e-05 - val_loss: 9.2817e-04\n",
      "Epoch 94/100\n",
      "38/38 [==============================] - 7s 196ms/step - loss: 4.1725e-05 - val_loss: 7.5645e-04\n",
      "Epoch 95/100\n",
      "38/38 [==============================] - 7s 190ms/step - loss: 4.5044e-05 - val_loss: 5.8604e-04\n",
      "Epoch 96/100\n",
      "38/38 [==============================] - 6s 158ms/step - loss: 6.5711e-05 - val_loss: 7.8238e-04\n",
      "Epoch 97/100\n",
      "38/38 [==============================] - 6s 168ms/step - loss: 5.5082e-05 - val_loss: 4.2995e-04\n",
      "Epoch 98/100\n",
      "38/38 [==============================] - 6s 151ms/step - loss: 4.9709e-05 - val_loss: 0.0010\n",
      "Epoch 99/100\n",
      "38/38 [==============================] - 6s 165ms/step - loss: 4.1726e-05 - val_loss: 5.8914e-04\n",
      "Epoch 100/100\n",
      "38/38 [==============================] - 7s 188ms/step - loss: 6.9095e-05 - val_loss: 0.0016\n"
     ]
    },
    {
     "data": {
      "text/plain": [
       "<tensorflow.python.keras.callbacks.History at 0x7fa9aa607050>"
      ]
     },
     "execution_count": 31,
     "metadata": {},
     "output_type": "execute_result"
    }
   ],
   "source": [
    "model.fit(X_train, y_train, validation_data=(X_test,y_test),epochs=100,batch_size=64,verbose=1)"
   ]
  },
  {
   "cell_type": "markdown",
   "metadata": {},
   "source": [
    "### Predict values"
   ]
  },
  {
   "cell_type": "code",
   "execution_count": 32,
   "metadata": {},
   "outputs": [],
   "source": [
    "train_predict = model.predict(X_train)\n",
    "test_predict = model.predict(X_test)"
   ]
  },
  {
   "cell_type": "markdown",
   "metadata": {},
   "source": [
    "### Inverse Transform predicted values"
   ]
  },
  {
   "cell_type": "code",
   "execution_count": 33,
   "metadata": {},
   "outputs": [],
   "source": [
    "# transform back to original form\n",
    "train_predict = scaler.inverse_transform(train_predict)\n",
    "test_predict = scaler.inverse_transform(test_predict)"
   ]
  },
  {
   "cell_type": "markdown",
   "metadata": {},
   "source": [
    "### Calculate Mean Squared Error"
   ]
  },
  {
   "cell_type": "code",
   "execution_count": 34,
   "metadata": {},
   "outputs": [
    {
     "data": {
      "text/plain": [
       "687.5872346304893"
      ]
     },
     "execution_count": 34,
     "metadata": {},
     "output_type": "execute_result"
    }
   ],
   "source": [
    "# RMSE performance\n",
    "import math\n",
    "from sklearn.metrics import mean_squared_error\n",
    "math.sqrt(mean_squared_error(y_train, train_predict)"
   ]
  },
  {
   "cell_type": "code",
   "execution_count": 35,
   "metadata": {},
   "outputs": [
    {
     "data": {
      "text/plain": [
       "1936.0083347670052"
      ]
     },
     "execution_count": 35,
     "metadata": {},
     "output_type": "execute_result"
    }
   ],
   "source": [
    "# Test data RMSE\n",
    "math.sqrt(mean_squared_error(y_test, test_predict))"
   ]
  },
  {
   "cell_type": "markdown",
   "metadata": {},
   "source": [
    "### Plot graph of predicted stock price and actual stock price"
   ]
  },
  {
   "cell_type": "code",
   "execution_count": 64,
   "metadata": {},
   "outputs": [],
   "source": [
    "close_values = np.array(df[\"Close\"]).reshape(-1, 1)"
   ]
  },
  {
   "cell_type": "code",
   "execution_count": 72,
   "metadata": {
    "scrolled": true
   },
   "outputs": [
    {
     "data": {
      "image/png": "[encoded data removed]",
      "text/plain": [
       "<Figure size 432x288 with 1 Axes>"
      ]
     },
     "metadata": {
      "needs_background": "light"
     },
     "output_type": "display_data"
    }
   ],
   "source": [
    "plt.plot(test_predict, label=\"Predicted Price\")\n",
    "plt.plot(close_values[-len(test_predict)-1:], label=\"Actual Price\")\n",
    "plt.legend()\n",
    "plt.title('Predicted vs Actual Stock Price')\n",
    "plt.ylabel('Stock price')\n",
    "plt.xlabel('Time')\n",
    "plt.show()"
   ]
  }
 ],
 "metadata": {
  "kernelspec": {
   "display_name": "Python 3",
   "language": "python",
   "name": "python3"
  },
  "language_info": {
   "codemirror_mode": {
    "name": "ipython",
    "version": 3
   },
   "file_extension": ".py",
   "mimetype": "text/x-python",
   "name": "python",
   "nbconvert_exporter": "python",
   "pygments_lexer": "ipython3",
   "version": "3.7.4"
  }
 },
 "nbformat": 4,
 "nbformat_minor": 2
}
